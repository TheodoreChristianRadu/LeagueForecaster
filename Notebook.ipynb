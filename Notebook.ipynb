{
 "cells": [
  {
   "cell_type": "code",
   "execution_count": null,
   "metadata": {},
   "outputs": [
    {
     "name": "stdout",
     "output_type": "stream",
     "text": [
      "Model: \"sequential_20\"\n",
      "_________________________________________________________________\n",
      " Layer (type)                Output Shape              Param #   \n",
      "=================================================================\n",
      " dense_26 (Dense)            (None, None, 4)           12        \n",
      "                                                                 \n",
      " simple_rnn_20 (SimpleRNN)   (None, None, 8)           104       \n",
      "                                                                 \n",
      " dense_27 (Dense)            (None, None, 2)           18        \n",
      "                                                                 \n",
      "=================================================================\n",
      "Total params: 134 (536.00 Byte)\n",
      "Trainable params: 134 (536.00 Byte)\n",
      "Non-trainable params: 0 (0.00 Byte)\n",
      "_________________________________________________________________\n"
     ]
    }
   ],
   "source": [
    "from tensorflow import keras\n",
    "from keras import layers\n",
    "\n",
    "# Input a vector containing game data e.g. [1, 4.5] for [win, kda=4.5]\n",
    "model = keras.Sequential([\n",
    "    layers.InputLayer((None, 2)),\n",
    "    layers.Dense(4), # Similar dimension to input\n",
    "    layers.SimpleRNN(8, return_sequences=True),\n",
    "    layers.Dense(2) # Ideally use the inverse of the first dense layer\n",
    "])\n",
    "\n",
    "model.summary()"
   ]
  }
 ],
 "metadata": {
  "kernelspec": {
   "display_name": "Python",
   "language": "python",
   "name": "python3"
  },
  "language_info": {
   "codemirror_mode": {
    "name": "ipython",
    "version": 3
   },
   "file_extension": ".py",
   "mimetype": "text/x-python",
   "name": "python",
   "nbconvert_exporter": "python",
   "pygments_lexer": "ipython3",
   "version": "3.10.1"
  }
 },
 "nbformat": 4,
 "nbformat_minor": 2
}
